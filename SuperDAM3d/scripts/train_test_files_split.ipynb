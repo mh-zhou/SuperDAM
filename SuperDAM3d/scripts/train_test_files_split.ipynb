{
 "cells": [
  {
   "cell_type": "code",
   "execution_count": 4,
   "metadata": {},
   "outputs": [
    {
     "name": "stderr",
     "output_type": "stream",
     "text": [
      "/home/raytrack/.conda/envs/torch1121/lib/python3.8/site-packages/tqdm/auto.py:21: TqdmWarning: IProgress not found. Please update jupyter and ipywidgets. See https://ipywidgets.readthedocs.io/en/stable/user_install.html\n",
      "  from .autonotebook import tqdm as notebook_tqdm\n"
     ]
    }
   ],
   "source": [
    "import os\n",
    "import numpy as np\n",
    "import utilities as UT"
   ]
  },
  {
   "cell_type": "code",
   "execution_count": 7,
   "metadata": {
    "tags": []
   },
   "outputs": [],
   "source": [
    "import os\n",
    "import numpy as np\n",
    "import utilities as UT\n",
    "\n",
    "# Set the new base path for the images\n",
    "img_root = '/home/raytrack/.jupyter/Dynamic/Preprocessed'\n",
    "folders = ['CN', 'AD']\n",
    "\n",
    "# Initialize lists for the 5 folds\n",
    "fold_0 = []\n",
    "fold_1 = []\n",
    "fold_2 = []\n",
    "fold_3 = []\n",
    "fold_4 = []\n",
    "\n",
    "# Loop through each folder (CN and AD) and distribute the files into folds\n",
    "for folder in folders:\n",
    "    cur_folder = os.path.join(img_root, folder)\n",
    "    files = os.listdir(cur_folder)\n",
    "    for f in files:\n",
    "        # Only consider directories which are assumed to be patient IDs\n",
    "        if os.path.isdir(os.path.join(cur_folder, f)):\n",
    "            # Get the full path of the npy file inside the patient's folder\n",
    "            cur_file = os.path.join(cur_folder, f, f\"{f}.npy\")\n",
    "            if os.path.exists(cur_file):  # Ensure the npy file exists\n",
    "                temp = np.load(cur_file)\n",
    "                ran = np.random.randint(5)\n",
    "                \n",
    "                if ran == 0:\n",
    "                    fold_0.append([cur_file])\n",
    "                elif ran == 1:\n",
    "                    fold_1.append([cur_file])\n",
    "                elif ran == 2:\n",
    "                    fold_2.append([cur_file])\n",
    "                elif ran == 3:\n",
    "                    fold_3.append([cur_file])\n",
    "                elif ran == 4:\n",
    "                    fold_4.append([cur_file])\n",
    "\n",
    "# Write each fold to a CSV file using the utilities function\n",
    "UT.write_csv(os.path.join(img_root, 'fold_CNvsAD_0.csv'), fold_0)\n",
    "UT.write_csv(os.path.join(img_root, 'fold_CNvsAD_1.csv'), fold_1)\n",
    "UT.write_csv(os.path.join(img_root, 'fold_CNvsAD_2.csv'), fold_2)\n",
    "UT.write_csv(os.path.join(img_root, 'fold_CNvsAD_3.csv'), fold_3)\n",
    "UT.write_csv(os.path.join(img_root, 'fold_CNvsAD_4.csv'), fold_4)\n"
   ]
  }
 ],
 "metadata": {
  "kernelspec": {
   "display_name": "PyTorch 1.12.1",
   "language": "python",
   "name": "torch1121"
  },
  "language_info": {
   "codemirror_mode": {
    "name": "ipython",
    "version": 3
   },
   "file_extension": ".py",
   "mimetype": "text/x-python",
   "name": "python",
   "nbconvert_exporter": "python",
   "pygments_lexer": "ipython3",
   "version": "3.8.17"
  }
 },
 "nbformat": 4,
 "nbformat_minor": 4
}
